{
 "cells": [
  {
   "cell_type": "markdown",
   "metadata": {},
   "source": [
    "# Projet Data Science"
   ]
  },
  {
   "cell_type": "markdown",
   "metadata": {},
   "source": [
    "Tomás Mejia, Antoine Balannec, Alexandre Le Borgne, Sébastien Hierso\n"
   ]
  },
  {
   "cell_type": "markdown",
   "metadata": {},
   "source": [
    "data datasoft: https://public.opendatasoft.com/explore/dataset/covid-19-pandemic-worldwide-data/export/?disjunctive.zone&disjunctive.category&refine.zone=France"
   ]
  },
  {
   "cell_type": "markdown",
   "metadata": {},
   "source": [
    "data gouv: https://github.com/opencovid19-fr/data\n"
   ]
  },
  {
   "cell_type": "code",
   "execution_count": 1,
   "metadata": {},
   "outputs": [],
   "source": [
    "import pandas as pd\n",
    "import numpy as np"
   ]
  },
  {
   "cell_type": "code",
   "execution_count": 2,
   "metadata": {},
   "outputs": [],
   "source": [
    "\n",
    "url=\"https://raw.githubusercontent.com/opencovid19-fr/data/master/dist/chiffres-cles.csv\"\n",
    "c=pd.read_csv(url)"
   ]
  },
  {
   "cell_type": "code",
   "execution_count": 3,
   "metadata": {},
   "outputs": [
    {
     "data": {
      "text/html": [
       "<div>\n",
       "<style scoped>\n",
       "    .dataframe tbody tr th:only-of-type {\n",
       "        vertical-align: middle;\n",
       "    }\n",
       "\n",
       "    .dataframe tbody tr th {\n",
       "        vertical-align: top;\n",
       "    }\n",
       "\n",
       "    .dataframe thead th {\n",
       "        text-align: right;\n",
       "    }\n",
       "</style>\n",
       "<table border=\"1\" class=\"dataframe\">\n",
       "  <thead>\n",
       "    <tr style=\"text-align: right;\">\n",
       "      <th></th>\n",
       "      <th>date</th>\n",
       "      <th>granularite</th>\n",
       "      <th>maille_code</th>\n",
       "      <th>maille_nom</th>\n",
       "      <th>cas_confirmes</th>\n",
       "      <th>cas_ehpad</th>\n",
       "      <th>cas_confirmes_ehpad</th>\n",
       "      <th>cas_possibles_ehpad</th>\n",
       "      <th>deces</th>\n",
       "      <th>deces_ehpad</th>\n",
       "      <th>reanimation</th>\n",
       "      <th>hospitalises</th>\n",
       "      <th>nouvelles_hospitalisations</th>\n",
       "      <th>nouvelles_reanimations</th>\n",
       "      <th>gueris</th>\n",
       "      <th>depistes</th>\n",
       "      <th>source_nom</th>\n",
       "      <th>source_url</th>\n",
       "      <th>source_archive</th>\n",
       "      <th>source_type</th>\n",
       "    </tr>\n",
       "  </thead>\n",
       "  <tbody>\n",
       "    <tr>\n",
       "      <th>0</th>\n",
       "      <td>2020-01-24</td>\n",
       "      <td>departement</td>\n",
       "      <td>DEP-16</td>\n",
       "      <td>Charente</td>\n",
       "      <td>0.0</td>\n",
       "      <td>NaN</td>\n",
       "      <td>NaN</td>\n",
       "      <td>NaN</td>\n",
       "      <td>NaN</td>\n",
       "      <td>NaN</td>\n",
       "      <td>NaN</td>\n",
       "      <td>NaN</td>\n",
       "      <td>NaN</td>\n",
       "      <td>NaN</td>\n",
       "      <td>NaN</td>\n",
       "      <td>NaN</td>\n",
       "      <td>ARS Nouvelle-Aquitaine</td>\n",
       "      <td>https://www.nouvelle-aquitaine.ars.sante.fr/co...</td>\n",
       "      <td>NaN</td>\n",
       "      <td>agences-regionales-sante</td>\n",
       "    </tr>\n",
       "    <tr>\n",
       "      <th>1</th>\n",
       "      <td>2020-01-24</td>\n",
       "      <td>departement</td>\n",
       "      <td>DEP-17</td>\n",
       "      <td>Charente-Maritime</td>\n",
       "      <td>0.0</td>\n",
       "      <td>NaN</td>\n",
       "      <td>NaN</td>\n",
       "      <td>NaN</td>\n",
       "      <td>NaN</td>\n",
       "      <td>NaN</td>\n",
       "      <td>NaN</td>\n",
       "      <td>NaN</td>\n",
       "      <td>NaN</td>\n",
       "      <td>NaN</td>\n",
       "      <td>NaN</td>\n",
       "      <td>NaN</td>\n",
       "      <td>ARS Nouvelle-Aquitaine</td>\n",
       "      <td>https://www.nouvelle-aquitaine.ars.sante.fr/co...</td>\n",
       "      <td>NaN</td>\n",
       "      <td>agences-regionales-sante</td>\n",
       "    </tr>\n",
       "    <tr>\n",
       "      <th>2</th>\n",
       "      <td>2020-01-24</td>\n",
       "      <td>departement</td>\n",
       "      <td>DEP-19</td>\n",
       "      <td>Corrèze</td>\n",
       "      <td>0.0</td>\n",
       "      <td>NaN</td>\n",
       "      <td>NaN</td>\n",
       "      <td>NaN</td>\n",
       "      <td>NaN</td>\n",
       "      <td>NaN</td>\n",
       "      <td>NaN</td>\n",
       "      <td>NaN</td>\n",
       "      <td>NaN</td>\n",
       "      <td>NaN</td>\n",
       "      <td>NaN</td>\n",
       "      <td>NaN</td>\n",
       "      <td>ARS Nouvelle-Aquitaine</td>\n",
       "      <td>https://www.nouvelle-aquitaine.ars.sante.fr/co...</td>\n",
       "      <td>NaN</td>\n",
       "      <td>agences-regionales-sante</td>\n",
       "    </tr>\n",
       "    <tr>\n",
       "      <th>3</th>\n",
       "      <td>2020-01-24</td>\n",
       "      <td>departement</td>\n",
       "      <td>DEP-23</td>\n",
       "      <td>Creuse</td>\n",
       "      <td>0.0</td>\n",
       "      <td>NaN</td>\n",
       "      <td>NaN</td>\n",
       "      <td>NaN</td>\n",
       "      <td>NaN</td>\n",
       "      <td>NaN</td>\n",
       "      <td>NaN</td>\n",
       "      <td>NaN</td>\n",
       "      <td>NaN</td>\n",
       "      <td>NaN</td>\n",
       "      <td>NaN</td>\n",
       "      <td>NaN</td>\n",
       "      <td>ARS Nouvelle-Aquitaine</td>\n",
       "      <td>https://www.nouvelle-aquitaine.ars.sante.fr/co...</td>\n",
       "      <td>NaN</td>\n",
       "      <td>agences-regionales-sante</td>\n",
       "    </tr>\n",
       "    <tr>\n",
       "      <th>4</th>\n",
       "      <td>2020-01-24</td>\n",
       "      <td>departement</td>\n",
       "      <td>DEP-24</td>\n",
       "      <td>Dordogne</td>\n",
       "      <td>0.0</td>\n",
       "      <td>NaN</td>\n",
       "      <td>NaN</td>\n",
       "      <td>NaN</td>\n",
       "      <td>NaN</td>\n",
       "      <td>NaN</td>\n",
       "      <td>NaN</td>\n",
       "      <td>NaN</td>\n",
       "      <td>NaN</td>\n",
       "      <td>NaN</td>\n",
       "      <td>NaN</td>\n",
       "      <td>NaN</td>\n",
       "      <td>ARS Nouvelle-Aquitaine</td>\n",
       "      <td>https://www.nouvelle-aquitaine.ars.sante.fr/co...</td>\n",
       "      <td>NaN</td>\n",
       "      <td>agences-regionales-sante</td>\n",
       "    </tr>\n",
       "    <tr>\n",
       "      <th>...</th>\n",
       "      <td>...</td>\n",
       "      <td>...</td>\n",
       "      <td>...</td>\n",
       "      <td>...</td>\n",
       "      <td>...</td>\n",
       "      <td>...</td>\n",
       "      <td>...</td>\n",
       "      <td>...</td>\n",
       "      <td>...</td>\n",
       "      <td>...</td>\n",
       "      <td>...</td>\n",
       "      <td>...</td>\n",
       "      <td>...</td>\n",
       "      <td>...</td>\n",
       "      <td>...</td>\n",
       "      <td>...</td>\n",
       "      <td>...</td>\n",
       "      <td>...</td>\n",
       "      <td>...</td>\n",
       "      <td>...</td>\n",
       "    </tr>\n",
       "    <tr>\n",
       "      <th>27393</th>\n",
       "      <td>2020-10-01</td>\n",
       "      <td>region</td>\n",
       "      <td>REG-75</td>\n",
       "      <td>Nouvelle-Aquitaine</td>\n",
       "      <td>NaN</td>\n",
       "      <td>NaN</td>\n",
       "      <td>NaN</td>\n",
       "      <td>NaN</td>\n",
       "      <td>504.0</td>\n",
       "      <td>NaN</td>\n",
       "      <td>59.0</td>\n",
       "      <td>334.0</td>\n",
       "      <td>37.0</td>\n",
       "      <td>5.0</td>\n",
       "      <td>2766.0</td>\n",
       "      <td>NaN</td>\n",
       "      <td>OpenCOVID19-fr</td>\n",
       "      <td>NaN</td>\n",
       "      <td>NaN</td>\n",
       "      <td>opencovid19-fr</td>\n",
       "    </tr>\n",
       "    <tr>\n",
       "      <th>27394</th>\n",
       "      <td>2020-10-01</td>\n",
       "      <td>region</td>\n",
       "      <td>REG-76</td>\n",
       "      <td>Occitanie</td>\n",
       "      <td>NaN</td>\n",
       "      <td>NaN</td>\n",
       "      <td>NaN</td>\n",
       "      <td>NaN</td>\n",
       "      <td>600.0</td>\n",
       "      <td>NaN</td>\n",
       "      <td>126.0</td>\n",
       "      <td>426.0</td>\n",
       "      <td>49.0</td>\n",
       "      <td>4.0</td>\n",
       "      <td>3751.0</td>\n",
       "      <td>NaN</td>\n",
       "      <td>OpenCOVID19-fr</td>\n",
       "      <td>NaN</td>\n",
       "      <td>NaN</td>\n",
       "      <td>opencovid19-fr</td>\n",
       "    </tr>\n",
       "    <tr>\n",
       "      <th>27395</th>\n",
       "      <td>2020-10-01</td>\n",
       "      <td>region</td>\n",
       "      <td>REG-84</td>\n",
       "      <td>Auvergne-Rhône-Alpes</td>\n",
       "      <td>NaN</td>\n",
       "      <td>NaN</td>\n",
       "      <td>NaN</td>\n",
       "      <td>NaN</td>\n",
       "      <td>1937.0</td>\n",
       "      <td>NaN</td>\n",
       "      <td>143.0</td>\n",
       "      <td>822.0</td>\n",
       "      <td>82.0</td>\n",
       "      <td>13.0</td>\n",
       "      <td>9590.0</td>\n",
       "      <td>NaN</td>\n",
       "      <td>OpenCOVID19-fr</td>\n",
       "      <td>NaN</td>\n",
       "      <td>NaN</td>\n",
       "      <td>opencovid19-fr</td>\n",
       "    </tr>\n",
       "    <tr>\n",
       "      <th>27396</th>\n",
       "      <td>2020-10-01</td>\n",
       "      <td>region</td>\n",
       "      <td>REG-93</td>\n",
       "      <td>Provence-Alpes-Côte d'Azur</td>\n",
       "      <td>NaN</td>\n",
       "      <td>NaN</td>\n",
       "      <td>NaN</td>\n",
       "      <td>NaN</td>\n",
       "      <td>1154.0</td>\n",
       "      <td>NaN</td>\n",
       "      <td>162.0</td>\n",
       "      <td>755.0</td>\n",
       "      <td>67.0</td>\n",
       "      <td>17.0</td>\n",
       "      <td>8174.0</td>\n",
       "      <td>NaN</td>\n",
       "      <td>OpenCOVID19-fr</td>\n",
       "      <td>NaN</td>\n",
       "      <td>NaN</td>\n",
       "      <td>opencovid19-fr</td>\n",
       "    </tr>\n",
       "    <tr>\n",
       "      <th>27397</th>\n",
       "      <td>2020-10-01</td>\n",
       "      <td>region</td>\n",
       "      <td>REG-94</td>\n",
       "      <td>Corse</td>\n",
       "      <td>NaN</td>\n",
       "      <td>NaN</td>\n",
       "      <td>NaN</td>\n",
       "      <td>NaN</td>\n",
       "      <td>66.0</td>\n",
       "      <td>NaN</td>\n",
       "      <td>5.0</td>\n",
       "      <td>25.0</td>\n",
       "      <td>1.0</td>\n",
       "      <td>1.0</td>\n",
       "      <td>297.0</td>\n",
       "      <td>NaN</td>\n",
       "      <td>OpenCOVID19-fr</td>\n",
       "      <td>NaN</td>\n",
       "      <td>NaN</td>\n",
       "      <td>opencovid19-fr</td>\n",
       "    </tr>\n",
       "  </tbody>\n",
       "</table>\n",
       "<p>27398 rows × 20 columns</p>\n",
       "</div>"
      ],
      "text/plain": [
       "             date  granularite maille_code                  maille_nom  \\\n",
       "0      2020-01-24  departement      DEP-16                    Charente   \n",
       "1      2020-01-24  departement      DEP-17           Charente-Maritime   \n",
       "2      2020-01-24  departement      DEP-19                     Corrèze   \n",
       "3      2020-01-24  departement      DEP-23                      Creuse   \n",
       "4      2020-01-24  departement      DEP-24                    Dordogne   \n",
       "...           ...          ...         ...                         ...   \n",
       "27393  2020-10-01       region      REG-75          Nouvelle-Aquitaine   \n",
       "27394  2020-10-01       region      REG-76                   Occitanie   \n",
       "27395  2020-10-01       region      REG-84        Auvergne-Rhône-Alpes   \n",
       "27396  2020-10-01       region      REG-93  Provence-Alpes-Côte d'Azur   \n",
       "27397  2020-10-01       region      REG-94                       Corse   \n",
       "\n",
       "       cas_confirmes  cas_ehpad  cas_confirmes_ehpad  cas_possibles_ehpad  \\\n",
       "0                0.0        NaN                  NaN                  NaN   \n",
       "1                0.0        NaN                  NaN                  NaN   \n",
       "2                0.0        NaN                  NaN                  NaN   \n",
       "3                0.0        NaN                  NaN                  NaN   \n",
       "4                0.0        NaN                  NaN                  NaN   \n",
       "...              ...        ...                  ...                  ...   \n",
       "27393            NaN        NaN                  NaN                  NaN   \n",
       "27394            NaN        NaN                  NaN                  NaN   \n",
       "27395            NaN        NaN                  NaN                  NaN   \n",
       "27396            NaN        NaN                  NaN                  NaN   \n",
       "27397            NaN        NaN                  NaN                  NaN   \n",
       "\n",
       "        deces  deces_ehpad  reanimation  hospitalises  \\\n",
       "0         NaN          NaN          NaN           NaN   \n",
       "1         NaN          NaN          NaN           NaN   \n",
       "2         NaN          NaN          NaN           NaN   \n",
       "3         NaN          NaN          NaN           NaN   \n",
       "4         NaN          NaN          NaN           NaN   \n",
       "...       ...          ...          ...           ...   \n",
       "27393   504.0          NaN         59.0         334.0   \n",
       "27394   600.0          NaN        126.0         426.0   \n",
       "27395  1937.0          NaN        143.0         822.0   \n",
       "27396  1154.0          NaN        162.0         755.0   \n",
       "27397    66.0          NaN          5.0          25.0   \n",
       "\n",
       "       nouvelles_hospitalisations  nouvelles_reanimations  gueris  depistes  \\\n",
       "0                             NaN                     NaN     NaN       NaN   \n",
       "1                             NaN                     NaN     NaN       NaN   \n",
       "2                             NaN                     NaN     NaN       NaN   \n",
       "3                             NaN                     NaN     NaN       NaN   \n",
       "4                             NaN                     NaN     NaN       NaN   \n",
       "...                           ...                     ...     ...       ...   \n",
       "27393                        37.0                     5.0  2766.0       NaN   \n",
       "27394                        49.0                     4.0  3751.0       NaN   \n",
       "27395                        82.0                    13.0  9590.0       NaN   \n",
       "27396                        67.0                    17.0  8174.0       NaN   \n",
       "27397                         1.0                     1.0   297.0       NaN   \n",
       "\n",
       "                   source_nom  \\\n",
       "0      ARS Nouvelle-Aquitaine   \n",
       "1      ARS Nouvelle-Aquitaine   \n",
       "2      ARS Nouvelle-Aquitaine   \n",
       "3      ARS Nouvelle-Aquitaine   \n",
       "4      ARS Nouvelle-Aquitaine   \n",
       "...                       ...   \n",
       "27393          OpenCOVID19-fr   \n",
       "27394          OpenCOVID19-fr   \n",
       "27395          OpenCOVID19-fr   \n",
       "27396          OpenCOVID19-fr   \n",
       "27397          OpenCOVID19-fr   \n",
       "\n",
       "                                              source_url source_archive  \\\n",
       "0      https://www.nouvelle-aquitaine.ars.sante.fr/co...            NaN   \n",
       "1      https://www.nouvelle-aquitaine.ars.sante.fr/co...            NaN   \n",
       "2      https://www.nouvelle-aquitaine.ars.sante.fr/co...            NaN   \n",
       "3      https://www.nouvelle-aquitaine.ars.sante.fr/co...            NaN   \n",
       "4      https://www.nouvelle-aquitaine.ars.sante.fr/co...            NaN   \n",
       "...                                                  ...            ...   \n",
       "27393                                                NaN            NaN   \n",
       "27394                                                NaN            NaN   \n",
       "27395                                                NaN            NaN   \n",
       "27396                                                NaN            NaN   \n",
       "27397                                                NaN            NaN   \n",
       "\n",
       "                    source_type  \n",
       "0      agences-regionales-sante  \n",
       "1      agences-regionales-sante  \n",
       "2      agences-regionales-sante  \n",
       "3      agences-regionales-sante  \n",
       "4      agences-regionales-sante  \n",
       "...                         ...  \n",
       "27393            opencovid19-fr  \n",
       "27394            opencovid19-fr  \n",
       "27395            opencovid19-fr  \n",
       "27396            opencovid19-fr  \n",
       "27397            opencovid19-fr  \n",
       "\n",
       "[27398 rows x 20 columns]"
      ]
     },
     "execution_count": 3,
     "metadata": {},
     "output_type": "execute_result"
    }
   ],
   "source": [
    "df1 = pd.DataFrame(c)\n",
    "\n",
    "df1"
   ]
  },
  {
   "cell_type": "code",
   "execution_count": 3,
   "metadata": {},
   "outputs": [
    {
     "data": {
      "text/html": [
       "<div>\n",
       "<style scoped>\n",
       "    .dataframe tbody tr th:only-of-type {\n",
       "        vertical-align: middle;\n",
       "    }\n",
       "\n",
       "    .dataframe tbody tr th {\n",
       "        vertical-align: top;\n",
       "    }\n",
       "\n",
       "    .dataframe thead th {\n",
       "        text-align: right;\n",
       "    }\n",
       "</style>\n",
       "<table border=\"1\" class=\"dataframe\">\n",
       "  <thead>\n",
       "    <tr style=\"text-align: right;\">\n",
       "      <th></th>\n",
       "      <th>Zone</th>\n",
       "      <th>Sub Zone</th>\n",
       "      <th>Category</th>\n",
       "      <th>Date</th>\n",
       "      <th>Count</th>\n",
       "      <th>Location</th>\n",
       "    </tr>\n",
       "  </thead>\n",
       "  <tbody>\n",
       "    <tr>\n",
       "      <th>0</th>\n",
       "      <td>Saint Lucia</td>\n",
       "      <td>NaN</td>\n",
       "      <td>Recovered</td>\n",
       "      <td>2020-09-12</td>\n",
       "      <td>26</td>\n",
       "      <td>13.9094,-60.9789</td>\n",
       "    </tr>\n",
       "    <tr>\n",
       "      <th>1</th>\n",
       "      <td>Saint Lucia</td>\n",
       "      <td>NaN</td>\n",
       "      <td>Recovered</td>\n",
       "      <td>2020-05-17</td>\n",
       "      <td>18</td>\n",
       "      <td>13.9094,-60.9789</td>\n",
       "    </tr>\n",
       "    <tr>\n",
       "      <th>2</th>\n",
       "      <td>Saint Lucia</td>\n",
       "      <td>NaN</td>\n",
       "      <td>Recovered</td>\n",
       "      <td>2020-08-15</td>\n",
       "      <td>25</td>\n",
       "      <td>13.9094,-60.9789</td>\n",
       "    </tr>\n",
       "    <tr>\n",
       "      <th>3</th>\n",
       "      <td>Saint Lucia</td>\n",
       "      <td>NaN</td>\n",
       "      <td>Recovered</td>\n",
       "      <td>2020-02-10</td>\n",
       "      <td>0</td>\n",
       "      <td>13.9094,-60.9789</td>\n",
       "    </tr>\n",
       "    <tr>\n",
       "      <th>4</th>\n",
       "      <td>Saint Lucia</td>\n",
       "      <td>NaN</td>\n",
       "      <td>Recovered</td>\n",
       "      <td>2020-09-26</td>\n",
       "      <td>27</td>\n",
       "      <td>13.9094,-60.9789</td>\n",
       "    </tr>\n",
       "    <tr>\n",
       "      <th>...</th>\n",
       "      <td>...</td>\n",
       "      <td>...</td>\n",
       "      <td>...</td>\n",
       "      <td>...</td>\n",
       "      <td>...</td>\n",
       "      <td>...</td>\n",
       "    </tr>\n",
       "    <tr>\n",
       "      <th>197815</th>\n",
       "      <td>United Kingdom</td>\n",
       "      <td>Channel Islands</td>\n",
       "      <td>Recovered</td>\n",
       "      <td>2020-03-03</td>\n",
       "      <td>0</td>\n",
       "      <td>49.3723,-2.3644</td>\n",
       "    </tr>\n",
       "    <tr>\n",
       "      <th>197816</th>\n",
       "      <td>United Kingdom</td>\n",
       "      <td>Channel Islands</td>\n",
       "      <td>Recovered</td>\n",
       "      <td>2020-05-15</td>\n",
       "      <td>457</td>\n",
       "      <td>49.3723,-2.3644</td>\n",
       "    </tr>\n",
       "    <tr>\n",
       "      <th>197817</th>\n",
       "      <td>United Kingdom</td>\n",
       "      <td>Channel Islands</td>\n",
       "      <td>Recovered</td>\n",
       "      <td>2020-06-09</td>\n",
       "      <td>512</td>\n",
       "      <td>49.3723,-2.3644</td>\n",
       "    </tr>\n",
       "    <tr>\n",
       "      <th>197818</th>\n",
       "      <td>United Kingdom</td>\n",
       "      <td>Channel Islands</td>\n",
       "      <td>Recovered</td>\n",
       "      <td>2020-06-10</td>\n",
       "      <td>512</td>\n",
       "      <td>49.3723,-2.3644</td>\n",
       "    </tr>\n",
       "    <tr>\n",
       "      <th>197819</th>\n",
       "      <td>United Kingdom</td>\n",
       "      <td>Channel Islands</td>\n",
       "      <td>Recovered</td>\n",
       "      <td>2020-06-30</td>\n",
       "      <td>512</td>\n",
       "      <td>49.3723,-2.3644</td>\n",
       "    </tr>\n",
       "  </tbody>\n",
       "</table>\n",
       "<p>197820 rows × 6 columns</p>\n",
       "</div>"
      ],
      "text/plain": [
       "                  Zone         Sub Zone   Category        Date  Count  \\\n",
       "0          Saint Lucia              NaN  Recovered  2020-09-12     26   \n",
       "1          Saint Lucia              NaN  Recovered  2020-05-17     18   \n",
       "2          Saint Lucia              NaN  Recovered  2020-08-15     25   \n",
       "3          Saint Lucia              NaN  Recovered  2020-02-10      0   \n",
       "4          Saint Lucia              NaN  Recovered  2020-09-26     27   \n",
       "...                ...              ...        ...         ...    ...   \n",
       "197815  United Kingdom  Channel Islands  Recovered  2020-03-03      0   \n",
       "197816  United Kingdom  Channel Islands  Recovered  2020-05-15    457   \n",
       "197817  United Kingdom  Channel Islands  Recovered  2020-06-09    512   \n",
       "197818  United Kingdom  Channel Islands  Recovered  2020-06-10    512   \n",
       "197819  United Kingdom  Channel Islands  Recovered  2020-06-30    512   \n",
       "\n",
       "                Location  \n",
       "0       13.9094,-60.9789  \n",
       "1       13.9094,-60.9789  \n",
       "2       13.9094,-60.9789  \n",
       "3       13.9094,-60.9789  \n",
       "4       13.9094,-60.9789  \n",
       "...                  ...  \n",
       "197815   49.3723,-2.3644  \n",
       "197816   49.3723,-2.3644  \n",
       "197817   49.3723,-2.3644  \n",
       "197818   49.3723,-2.3644  \n",
       "197819   49.3723,-2.3644  \n",
       "\n",
       "[197820 rows x 6 columns]"
      ]
     },
     "execution_count": 3,
     "metadata": {},
     "output_type": "execute_result"
    }
   ],
   "source": [
    "import matplotlib as plot\n",
    "\n",
    "c2 = pd.read_csv(\"datasets/covid-19-pandemic-worldwide-data.csv\", delimiter = ';') \n",
    "\n",
    "df2 = pd.DataFrame(c2)\n",
    "df2"
   ]
  },
  {
   "cell_type": "markdown",
   "metadata": {},
   "source": [
    "Nombre de personnes contaminées par pays"
   ]
  },
  {
   "cell_type": "code",
   "execution_count": 38,
   "metadata": {},
   "outputs": [
    {
     "data": {
      "text/plain": [
       "<AxesSubplot:xlabel='Zone'>"
      ]
     },
     "execution_count": 38,
     "metadata": {},
     "output_type": "execute_result"
    },
    {
     "data": {
      "image/png": "[encoded data removed]",
      "text/plain": [
       "<Figure size 432x288 with 1 Axes>"
      ]
     },
     "metadata": {
      "needs_background": "light"
     },
     "output_type": "display_data"
    }
   ],
   "source": [
    "df_mask = df2['Category'] == 'Confirmed'\n",
    "confirmed_df = df2[df_mask].groupby(['Zone'])['Count'].max().sort_values(ascending = False)[:10]\n",
    "confirmed_df.plot.bar()"
   ]
  },
  {
   "cell_type": "markdown",
   "metadata": {},
   "source": [
    "Nom de personnes guéries par pays"
   ]
  },
  {
   "cell_type": "code",
   "execution_count": 15,
   "metadata": {},
   "outputs": [
    {
     "data": {
      "text/plain": [
       "<AxesSubplot:xlabel='Zone'>"
      ]
     },
     "execution_count": 15,
     "metadata": {},
     "output_type": "execute_result"
    },
    {
     "data": {
      "image/png": "[encoded data removed]",
      "text/plain": [
       "<Figure size 432x288 with 1 Axes>"
      ]
     },
     "metadata": {
      "needs_background": "light"
     },
     "output_type": "display_data"
    }
   ],
   "source": [
    "df_mask = df2['Category'] == 'Recovered'\n",
    "recovered_df = df2[df_mask].groupby(['Zone'])['Count'].max().sort_values(ascending = False)[:10]\n",
    "recovered_df.plot.bar()"
   ]
  },
  {
   "cell_type": "code",
   "execution_count": null,
   "metadata": {},
   "outputs": [],
   "source": [
    "Nom de personnes mortes par pays"
   ]
  },
  {
   "cell_type": "code",
   "execution_count": 8,
   "metadata": {},
   "outputs": [
    {
     "data": {
      "text/plain": [
       "<AxesSubplot:xlabel='Zone'>"
      ]
     },
     "execution_count": 8,
     "metadata": {},
     "output_type": "execute_result"
    },
    {
     "data": {
      "image/png": "[encoded data removed]",
      "text/plain": [
       "<Figure size 432x288 with 1 Axes>"
      ]
     },
     "metadata": {
      "needs_background": "light"
     },
     "output_type": "display_data"
    }
   ],
   "source": [
    "df_mask = df2['Category'] == 'Deaths'\n",
    "deaths_df = df2[df_mask].groupby(['Zone'])['Count'].max().sort_values(ascending = False)[:10]\n",
    "deaths_df.plot.bar()"
   ]
  },
  {
   "cell_type": "markdown",
   "metadata": {},
   "source": [
    "Pays avec le meilleur taux de décès en pourcentage"
   ]
  },
  {
   "cell_type": "code",
   "execution_count": 34,
   "metadata": {},
   "outputs": [
    {
     "data": {
      "text/plain": [
       "<AxesSubplot:xlabel='Zone'>"
      ]
     },
     "execution_count": 34,
     "metadata": {},
     "output_type": "execute_result"
    },
    {
     "data": {
      "image/png": "[encoded data removed]",
      "text/plain": [
       "<Figure size 432x288 with 1 Axes>"
      ]
     },
     "metadata": {
      "needs_background": "light"
     },
     "output_type": "display_data"
    }
   ],
   "source": [
    "res_pos = ((deaths_df / confirmed_df) * 100).sort_values(ascending = False)[:10]\n",
    "res_pos.replace([np.inf, -np.inf], np.nan).dropna().plot.bar()"
   ]
  },
  {
   "cell_type": "markdown",
   "metadata": {},
   "source": [
    "Pays avec le meilleur taux de guérison en pourcentage"
   ]
  },
  {
   "cell_type": "code",
   "execution_count": 36,
   "metadata": {},
   "outputs": [
    {
     "data": {
      "text/plain": [
       "<AxesSubplot:xlabel='Zone'>"
      ]
     },
     "execution_count": 36,
     "metadata": {},
     "output_type": "execute_result"
    },
    {
     "data": {
      "image/png": "[encoded data removed]",
      "text/plain": [
       "<Figure size 432x288 with 1 Axes>"
      ]
     },
     "metadata": {
      "needs_background": "light"
     },
     "output_type": "display_data"
    }
   ],
   "source": [
    "res_pos = ((recovered_df / confirmed_df) * 100).sort_values(ascending = False)[:10]\n",
    "res_pos.replace([np.inf, -np.inf], np.nan).dropna().plot.bar()"
   ]
  },
  {
   "cell_type": "code",
   "execution_count": null,
   "metadata": {},
   "outputs": [],
   "source": []
  },
  {
   "cell_type": "code",
   "execution_count": null,
   "metadata": {},
   "outputs": [],
   "source": []
  }
 ],
 "metadata": {
  "kernelspec": {
   "display_name": "Python 3",
   "language": "python",
   "name": "python3"
  },
  "language_info": {
   "codemirror_mode": {
    "name": "ipython",
    "version": 3
   },
   "file_extension": ".py",
   "mimetype": "text/x-python",
   "name": "python",
   "nbconvert_exporter": "python",
   "pygments_lexer": "ipython3",
   "version": "3.8.5"
  }
 },
 "nbformat": 4,
 "nbformat_minor": 4
}
