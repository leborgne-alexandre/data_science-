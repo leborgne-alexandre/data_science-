{
 "cells": [
  {
   "cell_type": "markdown",
   "metadata": {},
   "source": [
    "# Projet Data Science"
   ]
  },
  {
   "cell_type": "markdown",
   "metadata": {},
   "source": [
    "Tomás Mejia, Antoine Balannec, Alexandre Le Borgne, Sébastien Hierso\n"
   ]
  },
  {
   "cell_type": "markdown",
   "metadata": {},
   "source": [
    "data datasoft: https://public.opendatasoft.com/explore/dataset/covid-19-pandemic-worldwide-data/export/?disjunctive.zone&disjunctive.category&refine.zone=France"
   ]
  },
  {
   "cell_type": "markdown",
   "metadata": {},
   "source": [
    "data gouv: https://github.com/opencovid19-fr/data\n"
   ]
  },
  {
   "cell_type": "markdown",
   "metadata": {},
   "source": [
    "# Mise en évidence géographique des cas dans les Dom-Tom et la france métropolitaine"
   ]
  },
  {
   "cell_type": "markdown",
   "metadata": {},
   "source": [
    "Import des librairies nécessaires \n"
   ]
  },
  {
   "cell_type": "code",
   "execution_count": 2,
   "metadata": {},
   "outputs": [],
   "source": [
    "import pandas as pd\n",
    "import folium"
   ]
  },
  {
   "cell_type": "markdown",
   "metadata": {},
   "source": [
    "Ouverture des données"
   ]
  },
  {
   "cell_type": "code",
   "execution_count": 3,
   "metadata": {},
   "outputs": [
    {
     "data": {
      "text/html": [
       "<div>\n",
       "<style scoped>\n",
       "    .dataframe tbody tr th:only-of-type {\n",
       "        vertical-align: middle;\n",
       "    }\n",
       "\n",
       "    .dataframe tbody tr th {\n",
       "        vertical-align: top;\n",
       "    }\n",
       "\n",
       "    .dataframe thead th {\n",
       "        text-align: right;\n",
       "    }\n",
       "</style>\n",
       "<table border=\"1\" class=\"dataframe\">\n",
       "  <thead>\n",
       "    <tr style=\"text-align: right;\">\n",
       "      <th></th>\n",
       "      <th>Zone</th>\n",
       "      <th>Sub Zone</th>\n",
       "      <th>Category</th>\n",
       "      <th>Date</th>\n",
       "      <th>Count</th>\n",
       "      <th>Location</th>\n",
       "    </tr>\n",
       "  </thead>\n",
       "  <tbody>\n",
       "    <tr>\n",
       "      <th>0</th>\n",
       "      <td>France</td>\n",
       "      <td>French Guiana</td>\n",
       "      <td>Deaths</td>\n",
       "      <td>2020-04-03</td>\n",
       "      <td>0</td>\n",
       "      <td>3.9339,-53.1258</td>\n",
       "    </tr>\n",
       "    <tr>\n",
       "      <th>1</th>\n",
       "      <td>France</td>\n",
       "      <td>French Guiana</td>\n",
       "      <td>Deaths</td>\n",
       "      <td>2020-04-16</td>\n",
       "      <td>0</td>\n",
       "      <td>3.9339,-53.1258</td>\n",
       "    </tr>\n",
       "    <tr>\n",
       "      <th>2</th>\n",
       "      <td>France</td>\n",
       "      <td>French Guiana</td>\n",
       "      <td>Deaths</td>\n",
       "      <td>2020-03-20</td>\n",
       "      <td>0</td>\n",
       "      <td>3.9339,-53.1258</td>\n",
       "    </tr>\n",
       "    <tr>\n",
       "      <th>3</th>\n",
       "      <td>France</td>\n",
       "      <td>French Guiana</td>\n",
       "      <td>Deaths</td>\n",
       "      <td>2020-04-17</td>\n",
       "      <td>0</td>\n",
       "      <td>3.9339,-53.1258</td>\n",
       "    </tr>\n",
       "    <tr>\n",
       "      <th>4</th>\n",
       "      <td>France</td>\n",
       "      <td>French Guiana</td>\n",
       "      <td>Deaths</td>\n",
       "      <td>2020-07-21</td>\n",
       "      <td>39</td>\n",
       "      <td>3.9339,-53.1258</td>\n",
       "    </tr>\n",
       "    <tr>\n",
       "      <th>...</th>\n",
       "      <td>...</td>\n",
       "      <td>...</td>\n",
       "      <td>...</td>\n",
       "      <td>...</td>\n",
       "      <td>...</td>\n",
       "      <td>...</td>\n",
       "    </tr>\n",
       "    <tr>\n",
       "      <th>8311</th>\n",
       "      <td>France</td>\n",
       "      <td>Guadeloupe</td>\n",
       "      <td>Deaths</td>\n",
       "      <td>2020-09-24</td>\n",
       "      <td>42</td>\n",
       "      <td>16.265,-61.551</td>\n",
       "    </tr>\n",
       "    <tr>\n",
       "      <th>8312</th>\n",
       "      <td>France</td>\n",
       "      <td>Guadeloupe</td>\n",
       "      <td>Deaths</td>\n",
       "      <td>2020-02-13</td>\n",
       "      <td>0</td>\n",
       "      <td>16.265,-61.551</td>\n",
       "    </tr>\n",
       "    <tr>\n",
       "      <th>8313</th>\n",
       "      <td>France</td>\n",
       "      <td>Guadeloupe</td>\n",
       "      <td>Deaths</td>\n",
       "      <td>2020-06-01</td>\n",
       "      <td>14</td>\n",
       "      <td>16.265,-61.551</td>\n",
       "    </tr>\n",
       "    <tr>\n",
       "      <th>8314</th>\n",
       "      <td>France</td>\n",
       "      <td>Guadeloupe</td>\n",
       "      <td>Deaths</td>\n",
       "      <td>2020-03-10</td>\n",
       "      <td>0</td>\n",
       "      <td>16.265,-61.551</td>\n",
       "    </tr>\n",
       "    <tr>\n",
       "      <th>8315</th>\n",
       "      <td>France</td>\n",
       "      <td>Guadeloupe</td>\n",
       "      <td>Deaths</td>\n",
       "      <td>2020-04-02</td>\n",
       "      <td>6</td>\n",
       "      <td>16.265,-61.551</td>\n",
       "    </tr>\n",
       "  </tbody>\n",
       "</table>\n",
       "<p>8316 rows × 6 columns</p>\n",
       "</div>"
      ],
      "text/plain": [
       "        Zone       Sub Zone Category        Date  Count         Location\n",
       "0     France  French Guiana   Deaths  2020-04-03      0  3.9339,-53.1258\n",
       "1     France  French Guiana   Deaths  2020-04-16      0  3.9339,-53.1258\n",
       "2     France  French Guiana   Deaths  2020-03-20      0  3.9339,-53.1258\n",
       "3     France  French Guiana   Deaths  2020-04-17      0  3.9339,-53.1258\n",
       "4     France  French Guiana   Deaths  2020-07-21     39  3.9339,-53.1258\n",
       "...      ...            ...      ...         ...    ...              ...\n",
       "8311  France     Guadeloupe   Deaths  2020-09-24     42   16.265,-61.551\n",
       "8312  France     Guadeloupe   Deaths  2020-02-13      0   16.265,-61.551\n",
       "8313  France     Guadeloupe   Deaths  2020-06-01     14   16.265,-61.551\n",
       "8314  France     Guadeloupe   Deaths  2020-03-10      0   16.265,-61.551\n",
       "8315  France     Guadeloupe   Deaths  2020-04-02      6   16.265,-61.551\n",
       "\n",
       "[8316 rows x 6 columns]"
      ]
     },
     "execution_count": 3,
     "metadata": {},
     "output_type": "execute_result"
    }
   ],
   "source": [
    "map_df = pd.read_csv(\"datasets/covid-19-pandemic-worldwide-data-fr.csv\",\";\")\n",
    "df2 = pd.DataFrame(map_df)\n",
    "df2\n"
   ]
  },
  {
   "cell_type": "markdown",
   "metadata": {},
   "source": [
    "Découpage de la colonne Location pour avoir les coordonnées"
   ]
  },
  {
   "cell_type": "code",
   "execution_count": 4,
   "metadata": {},
   "outputs": [],
   "source": [
    "df2.head()\n",
    "dataCoord = df2[\"Location\"].str.split(',',expand=True).rename(columns={\"0\": \"a\", \"1\": \"b\"})\n"
   ]
  },
  {
   "cell_type": "markdown",
   "metadata": {},
   "source": [
    "Regroupement des coordonnées des entrées et ajout du nombre de morts"
   ]
  },
  {
   "cell_type": "code",
   "execution_count": 5,
   "metadata": {
    "scrolled": true
   },
   "outputs": [
    {
     "data": {
      "text/plain": [
       "[['3.9339', '-53.1258', 1462210],\n",
       " ['-17.6797', '149.4068', 77564],\n",
       " ['16.265', '-61.551', 178652],\n",
       " ['14.6415', '-61.0242', 87212],\n",
       " ['-12.8275', '45.166244', 739520],\n",
       " ['-20.904305', '165.618042', 7460],\n",
       " ['-21.1151', '55.5364', 292731],\n",
       " ['17.9', '-62.8333', 3439],\n",
       " ['46.8852', '-56.3159', 877],\n",
       " ['18.0708', '-63.0501', 28344],\n",
       " ['46.2276', '2.2137', 57860372]]"
      ]
     },
     "execution_count": 5,
     "metadata": {},
     "output_type": "execute_result"
    }
   ],
   "source": [
    "coord = []\n",
    "for i in range(len(dataCoord)) : \n",
    "    finded = True\n",
    "    for j in range(len(coord)) :\n",
    "        if dataCoord[0][i] in coord[j][0] :\n",
    "            if dataCoord[1][i] in coord[j][1] :\n",
    "                coord[j][2] = coord[j][2] + df2[\"Count\"][i]\n",
    "                finded = False\n",
    "    if finded : \n",
    "        index = len(coord)\n",
    "        coord.append(index)\n",
    "        coord[index] = [dataCoord[0][i],dataCoord[1][i],df2[\"Count\"][i]]\n",
    "coord"
   ]
  },
  {
   "cell_type": "markdown",
   "metadata": {},
   "source": [
    "Affichage du nombre de cas par région, la valeur la plus grosse étant la france métropolitaire"
   ]
  },
  {
   "cell_type": "code",
   "execution_count": 6,
   "metadata": {},
   "outputs": [
    {
     "data": {
      "text/plain": [
       "<AxesSubplot:xlabel='0'>"
      ]
     },
     "execution_count": 6,
     "metadata": {},
     "output_type": "execute_result"
    },
    {
     "data": {
      "image/png": "[encoded data removed]",
      "text/plain": [
       "<Figure size 432x288 with 1 Axes>"
      ]
     },
     "metadata": {
      "needs_background": "light"
     },
     "output_type": "display_data"
    }
   ],
   "source": [
    "comparaison = pd.DataFrame(coord)\n",
    "comparaison.plot.bar(0,2)"
   ]
  },
  {
   "cell_type": "markdown",
   "metadata": {},
   "source": [
    "Génération du carte avec les points et le nombre de morts"
   ]
  },
  {
   "cell_type": "code",
   "execution_count": 8,
   "metadata": {},
   "outputs": [],
   "source": [
    "\n",
    "map = folium.Map(tiles='OpenStreetMap', zoom_start=5)\n",
    "map.save(outfile='mappoint.html')\n",
    "for i in range(len(coord)):\n",
    "    folium.Marker(location=(coord[i][0], coord[i][1]), popup = \"Nombre de cas \" + str(coord[i][2])).add_to(map)\n",
    "map.save(outfile='mappoint.html')"
   ]
  },
  {
   "cell_type": "markdown",
   "metadata": {},
   "source": [
    "Génération d'une carte avec des cercles qui ont pour rayons le nombre de mort (divisé par 1000000 pour eviter que cela soit trop gros)"
   ]
  },
  {
   "cell_type": "code",
   "execution_count": 9,
   "metadata": {},
   "outputs": [],
   "source": [
    "map = folium.Map(tiles='OpenStreetMap', zoom_start=5)\n",
    "map.save(outfile='mapcircle.html')\n",
    "for i in range(len(coord)):\n",
    "    folium.CircleMarker(\n",
    "        location = (coord[i][0], coord[i][1]),\n",
    "        radius = coord[i][2]/1000000,\n",
    "        color = 'crimson',\n",
    "        fill = True,\n",
    "        fill_color = 'crimson',\n",
    "        popup = \"Nombre de cas \" + str(coord[i][2])\n",
    "    ).add_to(map)\n",
    "map.save(outfile='mapcircle.html')"
   ]
  },
  {
   "cell_type": "code",
   "execution_count": null,
   "metadata": {},
   "outputs": [],
   "source": []
  }
 ],
 "metadata": {
  "kernelspec": {
   "display_name": "Python 3",
   "language": "python",
   "name": "python3"
  },
  "language_info": {
   "codemirror_mode": {
    "name": "ipython",
    "version": 3
   },
   "file_extension": ".py",
   "mimetype": "text/x-python",
   "name": "python",
   "nbconvert_exporter": "python",
   "pygments_lexer": "ipython3",
   "version": "3.8.2"
  }
 },
 "nbformat": 4,
 "nbformat_minor": 4
}
